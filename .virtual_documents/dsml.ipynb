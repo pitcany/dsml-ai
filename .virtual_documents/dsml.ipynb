import gurobipy as gp
from gurobipy import GRB

# Create model
m = gp.Model("nonconvex_qp")

# Add variables
x = m.addVar(lb=-GRB.INFINITY, name="x")
y = m.addVar(lb=-GRB.INFINITY, name="y")

# Non-convex quadratic objective: minimize x * y
m.setObjective(x * y, GRB.MINIMIZE)

# Add constraints
m.addConstr(x + y == 1, "c0")
m.addConstr(x >= -2, "c1")
m.addConstr(y >= -2, "c2")

# Enable nonconvex optimization
m.setParam("NonConvex", 2)

# Optimize
m.optimize()

# Print solution
if m.status == GRB.OPTIMAL:
    print(f"Optimal objective: {m.objVal}")
    print(f"x = {x.X}, y = {y.X}")



import numpy as np

# Covariance matrix and expected returns
Sigma = np.array([
    [0.1, 0.02, 0.04, 0.01],
    [0.02, 0.08, 0.02, 0.03],
    [0.04, 0.02, 0.12, 0.02],
    [0.01, 0.03, 0.02, 0.07]
])
mu = np.array([0.10, 0.12, 0.14, 0.09])
Rtarget = 0.115

# Create model
m = gp.Model("nonconvex_portfolio")

# Add variables for weights
w = m.addVars(4, lb=0, ub=1, name="w")

# Objective: minimize variance = wᵀ Σ w
quad_expr = gp.QuadExpr()
for i in range(4):
    for j in range(4):
        quad_expr += w[i] * Sigma[i, j] * w[j]
m.setObjective(quad_expr, GRB.MINIMIZE)

# Constraints
m.addConstr(gp.quicksum(w[i] for i in range(4)) == 1, "budget")

# Non-convex quadratic return constraint
# (muᵀ w - Rtarget)(muᵀ w - (Rtarget+0.01)) ≤ 0
ret_expr = gp.quicksum(mu[i] * w[i] for i in range(4))
m.addQConstr((ret_expr - Rtarget) * (ret_expr - (Rtarget + 0.01)) <= 0, "nonconvex_return")

# Enable nonconvex solver
m.setParam("NonConvex", 2)

# Optimize
m.optimize()

# Output solution
if m.status == GRB.OPTIMAL:
    print("Optimal variance:", m.objVal)
    for i in range(4):
        print(f"w{i} = {w[i].X}")




